{
 "cells": [
  {
   "cell_type": "code",
   "execution_count": null,
   "metadata": {},
   "outputs": [],
   "source": [
    "%matplotlib inline\n",
    "import numpy as np\n",
    "import pandas as pd\n",
    "from matplotlib import pyplot as plt\n",
    "from sklearn.metrics import silhouette_score as sw\n",
    "from sklearn.cluster import KMeans\n",
    "from sklearn.preprocessing import LabelEncoder"
   ]
  },
  {
   "cell_type": "code",
   "execution_count": null,
   "metadata": {},
   "outputs": [],
   "source": [
    "columns = ['Age','Workclass','fnlgwt','Education','Education num','Marital Status',\n",
    "           'Occupation','Relationship','Race','Sex','Capital Gain','Capital Loss',\n",
    "           'Hours/Week','Native country','Income']\n",
    "data = pd.read_csv('dataset/adult.data', names=columns, nrows=None, header=None, index_col=None)\n",
    "data.head()"
   ]
  },
  {
   "cell_type": "code",
   "execution_count": null,
   "metadata": {},
   "outputs": [],
   "source": [
    "#### Preprocessing\n",
    "# Pré-processamento feito para converter os valores String de acordo com seu Encode,\n",
    "# possibilitando assim que K-MEANS consiga trabalhar com dados numéricos.\n",
    "for column in data.columns:\n",
    "    if data[column].dtype == type(object):\n",
    "        le = LabelEncoder()\n",
    "        data[column] = le.fit_transform(data[column])\n",
    "        data[column].replace(' ?', np.nan, inplace=True)\n",
    "        \n",
    "df = pd.DataFrame(data)    \n",
    "\n",
    "def plot_clustering(df, labels, title=None):\n",
    "    x_min, x_max = np.min(df, axis=0), np.max(df, axis=0)\n",
    "    df = (df - x_min) / (x_max - x_min)\n",
    "    fig = plt.figure(1, figsize=(4, 3))\n",
    "    plt.figure(figsize=(6, 4))\n",
    "    plt.scatter(df.iloc[:, 0], df.iloc[:, 1],\n",
    "               c=labels.astype(np.float))\n",
    "    plt.xticks([])\n",
    "    plt.yticks([])\n",
    "    if title is not None:\n",
    "        plt.title(title, size=17)\n",
    "    plt.axis('off')\n",
    "    plt.tight_layout(rect=[0, 0.03, 1, 0.95])      \n",
    "#data.head()"
   ]
  },
  {
   "cell_type": "code",
   "execution_count": null,
   "metadata": {},
   "outputs": [],
   "source": [
    "k_means = KMeans(n_clusters=7)\n",
    "k_means.fit(data) \n",
    "labels = k_means.labels_\n",
    "centroids  = k_means.cluster_centers_.squeeze()\n",
    "labels = k_means.labels_\n",
    "\n",
    "plot_clustering(df, labels)\n",
    "plt.show()"
   ]
  },
  {
   "cell_type": "code",
   "execution_count": null,
   "metadata": {},
   "outputs": [],
   "source": [
    "# KMEANS\n",
    "# O Método Elbow nos ajuda a visualizar o número ideal de clusters para esse conjunto de dados\n",
    "# O número ideal está entre 5 e 7,5\n",
    "Sum_of_squared_distances = []\n",
    "K = range(2,20)\n",
    "for k in K:\n",
    "    km = KMeans(n_clusters=k)\n",
    "    km = km.fit(data)\n",
    "    Sum_of_squared_distances.append(km.inertia_)\n",
    "plt.plot(K, Sum_of_squared_distances, 'bx-')\n",
    "plt.xlabel('k')\n",
    "plt.ylabel('Soma das distâncias quadradas')\n",
    "plt.title('Método Elbow para o número Optimal de k')\n",
    "plt.show()"
   ]
  },
  {
   "cell_type": "code",
   "execution_count": null,
   "metadata": {},
   "outputs": [],
   "source": [
    "# Silhueta\n",
    "data.columns\n",
    "n_cluster = 7\n",
    "for k in range(n_cluster):\n",
    "  kmeans = KMeans(n_clusters=k+2, random_state=0).fit(data.loc[:, data.columns != 'Income'])\n",
    "  labels = kmeans.labels_\n",
    "  silhouette = sw(df.loc[:, data.columns != 'Income'], labels)\n",
    "  print('For k='+str(k+2)+' '+'SW:'+' '+str(silhouette))\n",
    "  print('-------------')"
   ]
  }
 ],
 "metadata": {
  "kernelspec": {
   "display_name": "Python 3",
   "language": "python",
   "name": "python3"
  },
  "language_info": {
   "codemirror_mode": {
    "name": "ipython",
    "version": 3
   },
   "file_extension": ".py",
   "mimetype": "text/x-python",
   "name": "python",
   "nbconvert_exporter": "python",
   "pygments_lexer": "ipython3",
   "version": "3.7.3"
  }
 },
 "nbformat": 4,
 "nbformat_minor": 2
}
